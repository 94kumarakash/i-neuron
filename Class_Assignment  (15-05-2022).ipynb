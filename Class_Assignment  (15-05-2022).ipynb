{
 "cells": [
  {
   "cell_type": "markdown",
   "id": "7e47e777",
   "metadata": {},
   "source": [
    "# Akash Kumar"
   ]
  },
  {
   "cell_type": "code",
   "execution_count": 1,
   "id": "de9b2198",
   "metadata": {},
   "outputs": [],
   "source": [
    "s = \"this is My First Python programming class and i am learNING python string and its function\""
   ]
  },
  {
   "cell_type": "markdown",
   "id": "c2c85d1f",
   "metadata": {},
   "source": [
    "1 . Try to extract data from index one to index 300 with a jump of 3 "
   ]
  },
  {
   "cell_type": "code",
   "execution_count": 2,
   "id": "32cbd284",
   "metadata": {
    "scrolled": false
   },
   "outputs": [
    {
     "data": {
      "text/plain": [
       "'h   r tnrrmglsnimeNGyosi dtfco'"
      ]
     },
     "execution_count": 2,
     "metadata": {},
     "output_type": "execute_result"
    }
   ],
   "source": [
    "s[1:300:3]"
   ]
  },
  {
   "cell_type": "markdown",
   "id": "d85bb259",
   "metadata": {},
   "source": [
    "2. Try to reverse a string without using reverse function "
   ]
  },
  {
   "cell_type": "code",
   "execution_count": 3,
   "id": "46c66c8e",
   "metadata": {},
   "outputs": [
    {
     "data": {
      "text/plain": [
       "'noitcnuf sti dna gnirts nohtyp GNINrael ma i dna ssalc gnimmargorp nohtyP tsriF yM si siht'"
      ]
     },
     "execution_count": 3,
     "metadata": {},
     "output_type": "execute_result"
    }
   ],
   "source": [
    "s[::-1]"
   ]
  },
  {
   "cell_type": "raw",
   "id": "a6208fe1",
   "metadata": {},
   "source": [
    "3. Try to split a string after conversion of entire string in uppercase "
   ]
  },
  {
   "cell_type": "code",
   "execution_count": 4,
   "id": "46d84889",
   "metadata": {
    "scrolled": true
   },
   "outputs": [
    {
     "data": {
      "text/plain": [
       "['THIS',\n",
       " 'IS',\n",
       " 'MY',\n",
       " 'FIRST',\n",
       " 'PYTHON',\n",
       " 'PROGRAMMING',\n",
       " 'CLASS',\n",
       " 'AND',\n",
       " 'I',\n",
       " 'AM',\n",
       " 'LEARNING',\n",
       " 'PYTHON',\n",
       " 'STRING',\n",
       " 'AND',\n",
       " 'ITS',\n",
       " 'FUNCTION']"
      ]
     },
     "execution_count": 4,
     "metadata": {},
     "output_type": "execute_result"
    }
   ],
   "source": [
    "s.upper().split(\" \")"
   ]
  },
  {
   "cell_type": "markdown",
   "id": "465ba7e0",
   "metadata": {},
   "source": [
    "4. Try to convert the whole string into lower case "
   ]
  },
  {
   "cell_type": "code",
   "execution_count": 5,
   "id": "4d3297dd",
   "metadata": {},
   "outputs": [
    {
     "data": {
      "text/plain": [
       "'this is my first python programming class and i am learning python string and its function'"
      ]
     },
     "execution_count": 5,
     "metadata": {},
     "output_type": "execute_result"
    }
   ],
   "source": [
    "s.lower()"
   ]
  },
  {
   "cell_type": "raw",
   "id": "52ac88de",
   "metadata": {},
   "source": [
    "5 . Try to capitalize the whole string "
   ]
  },
  {
   "cell_type": "code",
   "execution_count": 6,
   "id": "2b58ecb4",
   "metadata": {},
   "outputs": [
    {
     "data": {
      "text/plain": [
       "'This is my first python programming class and i am learning python string and its function'"
      ]
     },
     "execution_count": 6,
     "metadata": {},
     "output_type": "execute_result"
    }
   ],
   "source": [
    "s.capitalize()"
   ]
  },
  {
   "cell_type": "raw",
   "id": "6e08fe8f",
   "metadata": {},
   "source": [
    "6 . Write a diference between isalnum() and isalpha()"
   ]
  },
  {
   "cell_type": "code",
   "execution_count": 7,
   "id": "73a8acb2",
   "metadata": {},
   "outputs": [],
   "source": [
    "#isalnum() - Will return true if the string is either alphabets or numbers\n",
    "#isalpha() - will return true if the string is purely alphabets"
   ]
  },
  {
   "cell_type": "markdown",
   "id": "9e903286",
   "metadata": {},
   "source": [
    "7. Try to give an example of expand tab"
   ]
  },
  {
   "cell_type": "code",
   "execution_count": 8,
   "id": "9a2cf435",
   "metadata": {},
   "outputs": [
    {
     "data": {
      "text/plain": [
       "'Aka       sh        '"
      ]
     },
     "execution_count": 8,
     "metadata": {},
     "output_type": "execute_result"
    }
   ],
   "source": [
    "text = \"Aka\\tsh\\t\"\n",
    "text.expandtabs(10)"
   ]
  },
  {
   "cell_type": "raw",
   "id": "524187cc",
   "metadata": {},
   "source": [
    "8 . Give an example of strip , lstrip and rstrip "
   ]
  },
  {
   "cell_type": "code",
   "execution_count": 9,
   "id": "ec9e995f",
   "metadata": {},
   "outputs": [
    {
     "data": {
      "text/plain": [
       "'Akash Kumar'"
      ]
     },
     "execution_count": 9,
     "metadata": {},
     "output_type": "execute_result"
    }
   ],
   "source": [
    "text=\"     Akash Kumar      \"\n",
    "text.strip()"
   ]
  },
  {
   "cell_type": "code",
   "execution_count": 10,
   "id": "34cbb7e7",
   "metadata": {},
   "outputs": [
    {
     "data": {
      "text/plain": [
       "'Akash Kumar      '"
      ]
     },
     "execution_count": 10,
     "metadata": {},
     "output_type": "execute_result"
    }
   ],
   "source": [
    "text.lstrip()"
   ]
  },
  {
   "cell_type": "code",
   "execution_count": 11,
   "id": "9150a90f",
   "metadata": {},
   "outputs": [
    {
     "data": {
      "text/plain": [
       "'     Akash Kumar'"
      ]
     },
     "execution_count": 11,
     "metadata": {},
     "output_type": "execute_result"
    }
   ],
   "source": [
    "text.rstrip()"
   ]
  },
  {
   "cell_type": "markdown",
   "id": "0b23d749",
   "metadata": {},
   "source": [
    "9.  Replace a string character by another charsctor by taking your own example "
   ]
  },
  {
   "cell_type": "code",
   "execution_count": 12,
   "id": "8f4ee419",
   "metadata": {},
   "outputs": [
    {
     "data": {
      "text/plain": [
       "'     aaakash Kumar      '"
      ]
     },
     "execution_count": 12,
     "metadata": {},
     "output_type": "execute_result"
    }
   ],
   "source": [
    "text.replace('A','aaa')"
   ]
  },
  {
   "cell_type": "markdown",
   "id": "45cf10d3",
   "metadata": {},
   "source": [
    "10 . Try  to give a definition of string centre function with and "
   ]
  },
  {
   "cell_type": "code",
   "execution_count": 13,
   "id": "d1f6d280",
   "metadata": {},
   "outputs": [
    {
     "data": {
      "text/plain": [
       "'     Akash Kumar      '"
      ]
     },
     "execution_count": 13,
     "metadata": {},
     "output_type": "execute_result"
    }
   ],
   "source": [
    "text.center(20)"
   ]
  },
  {
   "cell_type": "markdown",
   "id": "b1684a3e",
   "metadata": {},
   "source": [
    "11 . Write your own definition of compiler and interpreter without copy paste form internet in your own language"
   ]
  },
  {
   "cell_type": "code",
   "execution_count": 14,
   "id": "4264db63",
   "metadata": {},
   "outputs": [],
   "source": [
    "#Complier - This run the code in one go\n",
    "#Interpreter - This runs the code line by line"
   ]
  },
  {
   "cell_type": "markdown",
   "id": "04ae2607",
   "metadata": {},
   "source": [
    "12 . Python is a interpreted of compiled language give a clear answer with your understanding "
   ]
  },
  {
   "cell_type": "code",
   "execution_count": 15,
   "id": "60de42a2",
   "metadata": {},
   "outputs": [],
   "source": [
    "#In pyhton, Code is executed line by line and if any of the error encountered then code stop running"
   ]
  },
  {
   "cell_type": "markdown",
   "id": "f154f043",
   "metadata": {},
   "source": [
    "13 . Try to write a usecase of python with your understanding"
   ]
  },
  {
   "cell_type": "markdown",
   "id": "d36b74e4",
   "metadata": {},
   "source": [
    "On daily basis, Peak Load data of Distribution Transformer is generated based on smart meter data and we have to provide the\n",
    "mitgation plan wherein transfomer becomes which usuallay involves data compliation from different sources like GIS data, \n",
    "Previous Planning data etc. This requires usually 2-3 Hrs. I had prepared a python program wherein, we have to provide only\n",
    "input data and all data gets complied within 2 Min and automated mail sent to stakholders for providing analyis and mitgation\n",
    "plan"
   ]
  }
 ],
 "metadata": {
  "kernelspec": {
   "display_name": "Python 3 (ipykernel)",
   "language": "python",
   "name": "python3"
  },
  "language_info": {
   "codemirror_mode": {
    "name": "ipython",
    "version": 3
   },
   "file_extension": ".py",
   "mimetype": "text/x-python",
   "name": "python",
   "nbconvert_exporter": "python",
   "pygments_lexer": "ipython3",
   "version": "3.9.7"
  }
 },
 "nbformat": 4,
 "nbformat_minor": 5
}
