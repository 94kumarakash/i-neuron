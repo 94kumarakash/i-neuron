{
 "cells": [
  {
   "cell_type": "markdown",
   "id": "d6fae855",
   "metadata": {},
   "source": [
    "# Programming Assignment-2"
   ]
  },
  {
   "cell_type": "markdown",
   "id": "427a82c8",
   "metadata": {},
   "source": [
    "Q-1 )Write a Python program to convert kilometers to miles?"
   ]
  },
  {
   "cell_type": "code",
   "execution_count": 1,
   "id": "2b6259f7",
   "metadata": {},
   "outputs": [
    {
     "name": "stdout",
     "output_type": "stream",
     "text": [
      "Enter Distance in KM : 100\n",
      "Distance in Miles is :  62.1\n"
     ]
    }
   ],
   "source": [
    "dis=float(input(\"Enter Distance in KM : \"))\n",
    "print(\"Distance in Miles is : \", 0.621*dis)"
   ]
  },
  {
   "cell_type": "markdown",
   "id": "7fca8080",
   "metadata": {},
   "source": [
    "Q-2) Write a Python program to convert Celsius to Fahrenheit?"
   ]
  },
  {
   "cell_type": "code",
   "execution_count": 2,
   "id": "1b255c27",
   "metadata": {},
   "outputs": [
    {
     "name": "stdout",
     "output_type": "stream",
     "text": [
      "Enter Temp in Degree Celsius : 100\n",
      "Temp is :  212.0  F\n"
     ]
    }
   ],
   "source": [
    "temp=float(input(\"Enter Temp in Degree Celsius : \"))\n",
    "print(\"Temp is : \", (9/5)*temp+32,\" F\")"
   ]
  },
  {
   "cell_type": "markdown",
   "id": "ee15ff36",
   "metadata": {},
   "source": [
    "Q-2) Write a Python program to display calendar?"
   ]
  },
  {
   "cell_type": "code",
   "execution_count": 3,
   "id": "fb21eaec",
   "metadata": {},
   "outputs": [
    {
     "name": "stdout",
     "output_type": "stream",
     "text": [
      "Enter Year : 2022\n",
      "Enter Month : 6\n",
      "     June 2022\n",
      "Mo Tu We Th Fr Sa Su\n",
      "       1  2  3  4  5\n",
      " 6  7  8  9 10 11 12\n",
      "13 14 15 16 17 18 19\n",
      "20 21 22 23 24 25 26\n",
      "27 28 29 30\n",
      "\n"
     ]
    }
   ],
   "source": [
    "import calendar\n",
    "yr=int(input(\"Enter Year : \"))\n",
    "mon=int(input(\"Enter Month : \"))\n",
    "print(calendar.month(yr, mon))"
   ]
  },
  {
   "cell_type": "markdown",
   "id": "7ebb3972",
   "metadata": {},
   "source": [
    "Q-4) Write a Python program to solve quadratic equation?"
   ]
  },
  {
   "cell_type": "code",
   "execution_count": 4,
   "id": "d9398870",
   "metadata": {},
   "outputs": [
    {
     "name": "stdout",
     "output_type": "stream",
     "text": [
      "Enter Values of a : 1\n",
      "Enter Values of b : 2\n",
      "Enter Values of c : 3\n",
      "Square roots are :  (-0.9999999999999999+1.4142135623730951j) (-0.9999999999999999+1.4142135623730951j)\n"
     ]
    }
   ],
   "source": [
    "a = float(input(\"Enter Values of a : \"))\n",
    "b = float(input(\"Enter Values of b : \"))\n",
    "c = float(input(\"Enter Values of c : \"))\n",
    "d=(b**2-4*a*c)**0.5\n",
    "x1=(-b+d)/(2*a)\n",
    "x2=(-b+d)/(2*a)\n",
    "print(\"Square roots are : \",x1,x2)"
   ]
  },
  {
   "cell_type": "markdown",
   "id": "47e29f48",
   "metadata": {},
   "source": [
    "Q-5) Write a Python program to swap two variables without temp variable?"
   ]
  },
  {
   "cell_type": "code",
   "execution_count": 5,
   "id": "35bb2365",
   "metadata": {},
   "outputs": [
    {
     "name": "stdout",
     "output_type": "stream",
     "text": [
      "Enter First Number : 3\n",
      "Enter Second Number : 4\n",
      "Swapped Variables - a:  4 b:  3\n"
     ]
    }
   ],
   "source": [
    "a=int(input(\"Enter First Number : \"))\n",
    "b=int(input(\"Enter Second Number : \"))\n",
    "a=a+b\n",
    "b=a-b\n",
    "a=a-b\n",
    "print(\"Swapped Variables - a: \",a,\"b: \",b)"
   ]
  }
 ],
 "metadata": {
  "kernelspec": {
   "display_name": "Python 3 (ipykernel)",
   "language": "python",
   "name": "python3"
  },
  "language_info": {
   "codemirror_mode": {
    "name": "ipython",
    "version": 3
   },
   "file_extension": ".py",
   "mimetype": "text/x-python",
   "name": "python",
   "nbconvert_exporter": "python",
   "pygments_lexer": "ipython3",
   "version": "3.9.7"
  }
 },
 "nbformat": 4,
 "nbformat_minor": 5
}
