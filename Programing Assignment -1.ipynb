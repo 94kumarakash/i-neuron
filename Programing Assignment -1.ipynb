{
 "cells": [
  {
   "cell_type": "markdown",
   "id": "a56f56cb",
   "metadata": {},
   "source": [
    "# Programing Assignment -1 "
   ]
  },
  {
   "cell_type": "markdown",
   "id": "269c569c",
   "metadata": {},
   "source": [
    "1. ) Write a Python program to print \"Hello Python\"?"
   ]
  },
  {
   "cell_type": "code",
   "execution_count": 1,
   "id": "22fbd386",
   "metadata": {},
   "outputs": [
    {
     "name": "stdout",
     "output_type": "stream",
     "text": [
      "Hello Python\n"
     ]
    }
   ],
   "source": [
    "print(\"Hello Python\")"
   ]
  },
  {
   "cell_type": "markdown",
   "id": "128c4cf0",
   "metadata": {},
   "source": [
    "2. Write a Python program to do arithmetical operations addition and division.?"
   ]
  },
  {
   "cell_type": "code",
   "execution_count": 2,
   "id": "9cdf03db",
   "metadata": {},
   "outputs": [
    {
     "name": "stdout",
     "output_type": "stream",
     "text": [
      "Please enter 1st Number : 2\n",
      "Please enter 1st Number : 3\n"
     ]
    }
   ],
   "source": [
    "a=int(input(\"Please enter 1st Number : \"))\n",
    "b=int(input(\"Please enter 1st Number : \"))"
   ]
  },
  {
   "cell_type": "code",
   "execution_count": 3,
   "id": "e2ca90e3",
   "metadata": {},
   "outputs": [
    {
     "name": "stdout",
     "output_type": "stream",
     "text": [
      "Addition is :  5\n"
     ]
    }
   ],
   "source": [
    "print(\"Addition is : \",a+b)"
   ]
  },
  {
   "cell_type": "code",
   "execution_count": 4,
   "id": "8317a7b9",
   "metadata": {},
   "outputs": [
    {
     "name": "stdout",
     "output_type": "stream",
     "text": [
      "Division is  0.67\n"
     ]
    }
   ],
   "source": [
    "if b==0:\n",
    "    print(\"Infinity\")\n",
    "else:\n",
    "    print(\"Division is \",(round(a/b,2)))"
   ]
  },
  {
   "cell_type": "markdown",
   "id": "5005e6c5",
   "metadata": {},
   "source": [
    "3. Write a Python program to find the area of a triangle"
   ]
  },
  {
   "cell_type": "code",
   "execution_count": 5,
   "id": "5a74eca3",
   "metadata": {
    "scrolled": true
   },
   "outputs": [
    {
     "name": "stdout",
     "output_type": "stream",
     "text": [
      "Please enter Side 1 : 4\n",
      "Please enter side 2 : 5\n",
      "Please enter side 3 : 4\n"
     ]
    }
   ],
   "source": [
    "a=float(input(\"Please enter Side 1 : \"))\n",
    "b=float(input(\"Please enter side 2 : \"))\n",
    "c=float(input(\"Please enter side 3 : \"))"
   ]
  },
  {
   "cell_type": "code",
   "execution_count": 6,
   "id": "a1ebbe1f",
   "metadata": {},
   "outputs": [
    {
     "name": "stdout",
     "output_type": "stream",
     "text": [
      "Area of Traingle is :  7.81\n"
     ]
    }
   ],
   "source": [
    "s=(a+b+c)/2\n",
    "if (s-a)<=0 or (s-b)<=0 or (s-c)<=0:\n",
    "    print(\"Traingle is not feasible\")\n",
    "else:\n",
    "    print(\"Area of Traingle is : \",round((s*(s-a)*(s-b)*(s-c))**(0.5),2))"
   ]
  },
  {
   "cell_type": "markdown",
   "id": "e3f3fb33",
   "metadata": {},
   "source": [
    "4. Write a Python program to swap two variables?"
   ]
  },
  {
   "cell_type": "code",
   "execution_count": 7,
   "id": "d82ab323",
   "metadata": {},
   "outputs": [
    {
     "name": "stdout",
     "output_type": "stream",
     "text": [
      "Please enter First Number : 3\n",
      "Please enter Second Number : 4\n"
     ]
    }
   ],
   "source": [
    "a=float(input(\"Please enter First Number : \"))\n",
    "b=float(input(\"Please enter Second Number : \"))"
   ]
  },
  {
   "cell_type": "code",
   "execution_count": 8,
   "id": "180b97d2",
   "metadata": {},
   "outputs": [
    {
     "name": "stdout",
     "output_type": "stream",
     "text": [
      "Swapped First Number :  3.0\n",
      "Swapped second Number :  4.0\n"
     ]
    }
   ],
   "source": [
    "c=a\n",
    "a=b\n",
    "b=c\n",
    "print(\"Swapped First Number : \",b)\n",
    "print(\"Swapped second Number : \",a)"
   ]
  },
  {
   "cell_type": "markdown",
   "id": "6cb9e19f",
   "metadata": {},
   "source": [
    "5. Write a Python program to generate a random number?"
   ]
  },
  {
   "cell_type": "code",
   "execution_count": 9,
   "id": "bfb68bb9",
   "metadata": {},
   "outputs": [
    {
     "data": {
      "text/plain": [
       "0.14183794858432863"
      ]
     },
     "execution_count": 9,
     "metadata": {},
     "output_type": "execute_result"
    }
   ],
   "source": [
    "import random\n",
    "random.random()"
   ]
  }
 ],
 "metadata": {
  "kernelspec": {
   "display_name": "Python 3 (ipykernel)",
   "language": "python",
   "name": "python3"
  },
  "language_info": {
   "codemirror_mode": {
    "name": "ipython",
    "version": 3
   },
   "file_extension": ".py",
   "mimetype": "text/x-python",
   "name": "python",
   "nbconvert_exporter": "python",
   "pygments_lexer": "ipython3",
   "version": "3.9.7"
  }
 },
 "nbformat": 4,
 "nbformat_minor": 5
}
