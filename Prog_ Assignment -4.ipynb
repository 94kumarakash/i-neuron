{
 "cells": [
  {
   "cell_type": "markdown",
   "id": "d0169e92",
   "metadata": {},
   "source": [
    "1. Write a Python Program to Find the Factorial of a Number?"
   ]
  },
  {
   "cell_type": "code",
   "execution_count": 5,
   "id": "19df63c1",
   "metadata": {},
   "outputs": [
    {
     "name": "stdout",
     "output_type": "stream",
     "text": [
      "Enter the Number : 5\n",
      "Factorial is  120\n"
     ]
    }
   ],
   "source": [
    "while True:\n",
    "    try:\n",
    "        fact=1\n",
    "        num=int(input(\"Enter the Number : \"))\n",
    "        if num>0:\n",
    "            for i in range (1,num+1):\n",
    "                fact=fact*i\n",
    "        else:\n",
    "            print(\"Negative Number factorial not feasible\")\n",
    "            break\n",
    "        print(\"Factorial is \",fact)\n",
    "        break\n",
    "    except ValueError:\n",
    "        print(\"there should not be string\")"
   ]
  },
  {
   "cell_type": "markdown",
   "id": "a2506f94",
   "metadata": {},
   "source": [
    "2. Write a Python Program to Display the multiplication Table?"
   ]
  },
  {
   "cell_type": "code",
   "execution_count": 6,
   "id": "3e758127",
   "metadata": {},
   "outputs": [
    {
     "name": "stdout",
     "output_type": "stream",
     "text": [
      "Enter Your Number for Table Number : 6\n",
      "6  x  1  =  6\n",
      "6  x  2  =  12\n",
      "6  x  3  =  18\n",
      "6  x  4  =  24\n",
      "6  x  5  =  30\n",
      "6  x  6  =  36\n",
      "6  x  7  =  42\n",
      "6  x  8  =  48\n",
      "6  x  9  =  54\n",
      "6  x  10  =  60\n"
     ]
    }
   ],
   "source": [
    "t=int(input(\"Enter Your Number for Table Number : \"))\n",
    "for i in range(1,11):\n",
    "    print(t,\" x \",i,\" = \",i*t)"
   ]
  },
  {
   "cell_type": "markdown",
   "id": "0ddbc38a",
   "metadata": {},
   "source": [
    "3. Write a Python Program to Print the Fibonacci sequence?"
   ]
  },
  {
   "cell_type": "code",
   "execution_count": 7,
   "id": "0beacbe3",
   "metadata": {},
   "outputs": [
    {
     "name": "stdout",
     "output_type": "stream",
     "text": [
      "Enter no. of terms 45\n",
      "1\n",
      "2\n",
      "3\n",
      "5\n",
      "8\n",
      "13\n",
      "21\n",
      "34\n",
      "55\n",
      "89\n",
      "144\n",
      "233\n",
      "377\n",
      "610\n",
      "987\n",
      "1597\n",
      "2584\n",
      "4181\n",
      "6765\n",
      "10946\n",
      "17711\n",
      "28657\n",
      "46368\n",
      "75025\n",
      "121393\n",
      "196418\n",
      "317811\n",
      "514229\n",
      "832040\n",
      "1346269\n",
      "2178309\n",
      "3524578\n",
      "5702887\n",
      "9227465\n",
      "14930352\n",
      "24157817\n",
      "39088169\n",
      "63245986\n",
      "102334155\n",
      "165580141\n",
      "267914296\n",
      "433494437\n",
      "701408733\n",
      "1134903170\n"
     ]
    }
   ],
   "source": [
    "n= int(input(\"Enter no. of terms \"))\n",
    "if n<0:\n",
    "    print(\"Entered number is neagative\")\n",
    "elif n==0:\n",
    "    print(\"0\")\n",
    "else:\n",
    "    a=0\n",
    "    b=1\n",
    "    for i in range (1,n):\n",
    "        c=a+b\n",
    "        a=b\n",
    "        b=c\n",
    "        print(b)"
   ]
  },
  {
   "cell_type": "markdown",
   "id": "4398f561",
   "metadata": {},
   "source": [
    "4. Write a Python Program to Check Armstrong Number?"
   ]
  },
  {
   "cell_type": "code",
   "execution_count": 8,
   "id": "091e81ac",
   "metadata": {},
   "outputs": [
    {
     "name": "stdout",
     "output_type": "stream",
     "text": [
      "Please Enter Your number :45\n",
      "Entered number is not Armstrong\n"
     ]
    }
   ],
   "source": [
    "num=int(input(\"Please Enter Your number :\"))\n",
    "n=len(str(num))  \n",
    "test=num\n",
    "sum=0\n",
    "while (test!=0):\n",
    "    num1=test%10\n",
    "    sum=sum+(num1**n)\n",
    "    test=test//10\n",
    "\n",
    "if num==sum:\n",
    "    print(\"Entered number is Armstrong\")\n",
    "else:\n",
    "    print(\"Entered number is not Armstrong\")"
   ]
  },
  {
   "cell_type": "raw",
   "id": "d66b20d9",
   "metadata": {},
   "source": [
    " 5. Write a Python Program to Find Armstrong Number in an Interval?"
   ]
  },
  {
   "cell_type": "code",
   "execution_count": 9,
   "id": "6ad83ed4",
   "metadata": {},
   "outputs": [
    {
     "name": "stdout",
     "output_type": "stream",
     "text": [
      "Enter Lower Number : 10\n",
      "Enter Upper Number : 100\n",
      "All Armstrong Number - \n",
      "25\n",
      "36\n"
     ]
    }
   ],
   "source": [
    "lower=int(input(\"Enter Lower Number : \"))\n",
    "upper=int(input(\"Enter Upper Number : \"))\n",
    "print(\"All Armstrong Number - \")\n",
    "for num in range(lower, upper + 1):\n",
    "    sum=0\n",
    "    temp=num\n",
    "    n=len(str(num))\n",
    "    while temp>0:\n",
    "        digit=temp%10\n",
    "        sum=sum+digit**n\n",
    "        temp//=10\n",
    "        if num==sum:\n",
    "            print(num)"
   ]
  },
  {
   "cell_type": "raw",
   "id": "a08230fa",
   "metadata": {},
   "source": [
    "6. Write a Python Program to Find the Sum of Natural Numbers?"
   ]
  },
  {
   "cell_type": "code",
   "execution_count": 10,
   "id": "85e3dc2e",
   "metadata": {},
   "outputs": [
    {
     "name": "stdout",
     "output_type": "stream",
     "text": [
      "Enter Number of terms : 5\n",
      "Sum of first 5 Natural number is  15\n"
     ]
    }
   ],
   "source": [
    "term=int(input(\"Enter Number of terms : \"))\n",
    "sum=0\n",
    "for i in range(1,term+1):\n",
    "    sum=sum+i\n",
    "print(\"Sum of first\",term,\"Natural number is \",sum)"
   ]
  },
  {
   "cell_type": "code",
   "execution_count": null,
   "id": "5bac9053",
   "metadata": {},
   "outputs": [],
   "source": []
  }
 ],
 "metadata": {
  "kernelspec": {
   "display_name": "Python 3 (ipykernel)",
   "language": "python",
   "name": "python3"
  },
  "language_info": {
   "codemirror_mode": {
    "name": "ipython",
    "version": 3
   },
   "file_extension": ".py",
   "mimetype": "text/x-python",
   "name": "python",
   "nbconvert_exporter": "python",
   "pygments_lexer": "ipython3",
   "version": "3.9.12"
  }
 },
 "nbformat": 4,
 "nbformat_minor": 5
}
